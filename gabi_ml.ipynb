{
 "cells": [
  {
   "cell_type": "code",
   "execution_count": 10,
   "metadata": {},
   "outputs": [],
   "source": [
    "# Manejo de datos\n",
    "import pandas as pd\n",
    "\n",
    "# Modelos de Machine Learning\n",
    "from sklearn.ensemble import RandomForestClassifier\n",
    "from xgboost import XGBClassifier\n",
    "\n",
    "\n",
    "# Preprocesamiento\n",
    "from sklearn.preprocessing import StandardScaler, LabelEncoder\n",
    "\n",
    "# Oversampling\n",
    "from imblearn.over_sampling import SMOTE \n",
    "from imblearn.combine import SMOTETomek\n",
    "\n",
    "# Evaluación de modelos\n",
    "from sklearn.metrics import classification_report, accuracy_score\n",
    "\n",
    "# Búsqueda de hiperparámetros\n",
    "from sklearn.model_selection import GridSearchCV, train_test_split\n",
    "\n"
   ]
  },
  {
   "cell_type": "markdown",
   "metadata": {},
   "source": [
    "**Importo los datos de los CSV provenientes de la API de Spotify**"
   ]
  },
  {
   "cell_type": "code",
   "execution_count": 11,
   "metadata": {},
   "outputs": [],
   "source": [
    "songs = pd.read_csv('./data/spotify.csv')\n",
    "spotify_blues = pd.read_csv('./data/spotify_blues.csv')\n",
    "spotify_country = pd.read_csv('./data/spotify_country.csv')\n",
    "spotify_electronic = pd.read_csv('./data/spotify_electronic.csv')\n",
    "spotify_hip_hop = pd.read_csv('./data/spotify_hip_hop.csv')\n",
    "spotify_jazz = pd.read_csv('./data/spotify_jazz.csv')\n",
    "spotify_pop = pd.read_csv('./data/spotify_pop.csv')\n",
    "spotify_rap = pd.read_csv('./data/spotify_rap.csv')\n",
    "spotify_reggae = pd.read_csv('./data/spotify_reggae.csv')\n",
    "spotify_rnb = pd.read_csv('./data/spotify_rnb.csv')\n",
    "spotify_rock = pd.read_csv('./data/spotify_rock.csv')\n",
    "spotify_mix= pd.read_csv('./data/spotify.csv')\n"
   ]
  },
  {
   "cell_type": "code",
   "execution_count": 12,
   "metadata": {},
   "outputs": [],
   "source": [
    "songs = pd.concat([songs, spotify_blues, spotify_country, spotify_electronic, \n",
    "                       spotify_hip_hop, spotify_jazz, spotify_pop, \n",
    "                       spotify_rap, spotify_reggae, spotify_rnb, spotify_rock,\n",
    "                       spotify_mix], \n",
    "                      ignore_index=True)"
   ]
  },
  {
   "cell_type": "code",
   "execution_count": 13,
   "metadata": {},
   "outputs": [
    {
     "name": "stdout",
     "output_type": "stream",
     "text": [
      "<class 'pandas.core.frame.DataFrame'>\n",
      "RangeIndex: 2842 entries, 0 to 2841\n",
      "Data columns (total 21 columns):\n",
      " #   Column            Non-Null Count  Dtype  \n",
      "---  ------            --------------  -----  \n",
      " 0   Title             2842 non-null   object \n",
      " 1   Genre             2842 non-null   object \n",
      " 2   Artist            2842 non-null   object \n",
      " 3   id                2842 non-null   object \n",
      " 4   title_spotify     2842 non-null   object \n",
      " 5   album             2842 non-null   object \n",
      " 6   sp_popularity     2842 non-null   float64\n",
      " 7   colab             2842 non-null   object \n",
      " 8   release_date      2842 non-null   object \n",
      " 9   danceability      2842 non-null   float64\n",
      " 10  energy            2842 non-null   float64\n",
      " 11  loudness          2842 non-null   float64\n",
      " 12  speechiness       2842 non-null   float64\n",
      " 13  acousticness      2842 non-null   float64\n",
      " 14  instrumentalness  2842 non-null   float64\n",
      " 15  liveness          2842 non-null   float64\n",
      " 16  valence           2842 non-null   float64\n",
      " 17  key               2842 non-null   float64\n",
      " 18  mode              2842 non-null   float64\n",
      " 19  tempo             2842 non-null   float64\n",
      " 20  duration          2842 non-null   float64\n",
      "dtypes: float64(13), object(8)\n",
      "memory usage: 466.4+ KB\n"
     ]
    }
   ],
   "source": [
    "songs.info()"
   ]
  },
  {
   "cell_type": "markdown",
   "metadata": {},
   "source": [
    "**DATA CLEANING**"
   ]
  },
  {
   "cell_type": "markdown",
   "metadata": {},
   "source": [
    "**La columna \"Colab\" tiene como valores Y o N (yes o no) lo tranformo en valores booleanos**"
   ]
  },
  {
   "cell_type": "code",
   "execution_count": null,
   "metadata": {},
   "outputs": [],
   "source": [
    "songs['release_date'] = pd.to_datetime(songs['release_date'], errors='coerce')\n",
    "songs['colab'] = songs['colab'].replace({'Y': True, 'N': False})"
   ]
  },
  {
   "cell_type": "code",
   "execution_count": 15,
   "metadata": {},
   "outputs": [
    {
     "name": "stdout",
     "output_type": "stream",
     "text": [
      "<class 'pandas.core.frame.DataFrame'>\n",
      "RangeIndex: 2842 entries, 0 to 2841\n",
      "Data columns (total 21 columns):\n",
      " #   Column            Non-Null Count  Dtype         \n",
      "---  ------            --------------  -----         \n",
      " 0   Title             2842 non-null   object        \n",
      " 1   Genre             2842 non-null   object        \n",
      " 2   Artist            2842 non-null   object        \n",
      " 3   id                2842 non-null   object        \n",
      " 4   title_spotify     2842 non-null   object        \n",
      " 5   album             2842 non-null   object        \n",
      " 6   sp_popularity     2842 non-null   float64       \n",
      " 7   colab             2842 non-null   bool          \n",
      " 8   release_date      2597 non-null   datetime64[ns]\n",
      " 9   danceability      2842 non-null   float64       \n",
      " 10  energy            2842 non-null   float64       \n",
      " 11  loudness          2842 non-null   float64       \n",
      " 12  speechiness       2842 non-null   float64       \n",
      " 13  acousticness      2842 non-null   float64       \n",
      " 14  instrumentalness  2842 non-null   float64       \n",
      " 15  liveness          2842 non-null   float64       \n",
      " 16  valence           2842 non-null   float64       \n",
      " 17  key               2842 non-null   float64       \n",
      " 18  mode              2842 non-null   float64       \n",
      " 19  tempo             2842 non-null   float64       \n",
      " 20  duration          2842 non-null   float64       \n",
      "dtypes: bool(1), datetime64[ns](1), float64(13), object(6)\n",
      "memory usage: 447.0+ KB\n"
     ]
    }
   ],
   "source": [
    "songs.info()"
   ]
  },
  {
   "cell_type": "markdown",
   "metadata": {},
   "source": [
    "**Transformo la columna \"Genre\" en tipo categoría por eficiencia a la hora de entrenar el modelo**"
   ]
  },
  {
   "cell_type": "code",
   "execution_count": 17,
   "metadata": {},
   "outputs": [],
   "source": [
    "songs['Genre'] = songs['Genre'].astype('category')"
   ]
  },
  {
   "cell_type": "markdown",
   "metadata": {},
   "source": [
    "**Definición de features y conjuntos de datos**"
   ]
  },
  {
   "cell_type": "code",
   "execution_count": 27,
   "metadata": {},
   "outputs": [],
   "source": [
    "# Seleccionar las características numéricas\n",
    "numerical_features = ['sp_popularity', 'danceability', 'energy','loudness','speechiness', 'acousticness', 'instrumentalness', 'liveness', 'valence','key','mode','duration', 'tempo']  # Añade más características si es necesario\n",
    "X = songs[numerical_features]\n",
    "\n",
    "# El target (género), en formato categórico\n",
    "y = songs['Genre']\n",
    "\n",
    "# Dividir los datos en conjunto de entrenamiento y prueba\n",
    "X_train, X_test, y_train, y_test = train_test_split(X, y, test_size=0.2, random_state=42)"
   ]
  },
  {
   "cell_type": "markdown",
   "metadata": {},
   "source": [
    "**RANDOM FOREST**"
   ]
  },
  {
   "cell_type": "code",
   "execution_count": 28,
   "metadata": {},
   "outputs": [
    {
     "name": "stdout",
     "output_type": "stream",
     "text": [
      "Precisión del modelo Random Forest: 0.4886\n"
     ]
    }
   ],
   "source": [
    "# Crear el modelo de Random Forest\n",
    "rf = RandomForestClassifier(n_estimators=100, random_state=42)\n",
    "\n",
    "# Entrenar el modelo\n",
    "rf.fit(X_train, y_train)\n",
    "\n",
    "# Hacer predicciones en el conjunto de prueba\n",
    "y_pred = rf.predict(X_test)\n",
    "\n",
    "# Evaluar la precisión del modelo\n",
    "accuracy = accuracy_score(y_test, y_pred)\n",
    "print(f\"Precisión del modelo Random Forest: {accuracy:.4f}\")"
   ]
  },
  {
   "cell_type": "code",
   "execution_count": 19,
   "metadata": {},
   "outputs": [
    {
     "name": "stdout",
     "output_type": "stream",
     "text": [
      "              precision    recall  f1-score   support\n",
      "\n",
      "       Blues       0.47      0.50      0.48        14\n",
      "     Country       0.83      0.36      0.50        14\n",
      "  Electronic       0.50      0.36      0.42        11\n",
      "     Hip Hop       0.12      0.10      0.11        20\n",
      "        Jazz       0.72      0.62      0.67        21\n",
      "         Pop       0.22      0.12      0.16        16\n",
      "         R&B       0.35      0.27      0.31        22\n",
      "         Rap       0.12      0.11      0.11        19\n",
      "      Reggae       0.43      0.46      0.44        13\n",
      "        Rock       0.58      0.29      0.39        24\n",
      " alternative       0.04      0.07      0.05        15\n",
      "       blues       0.69      0.58      0.63        19\n",
      "   classical       0.94      1.00      0.97        15\n",
      "     country       0.70      0.82      0.76        17\n",
      "       disco       0.53      0.71      0.61        14\n",
      "  electronic       0.55      0.42      0.48        26\n",
      "        folk       0.57      0.85      0.68        20\n",
      "     hip hop       0.30      0.53      0.38        17\n",
      "       house       0.68      0.65      0.67        20\n",
      "       indie       0.29      0.26      0.27        23\n",
      "        jazz       0.56      0.53      0.54        19\n",
      "       latin       0.88      0.78      0.82        18\n",
      "       metal       0.75      0.60      0.67        25\n",
      "         pop       0.20      0.21      0.21        19\n",
      "        punk       0.67      0.73      0.70        22\n",
      "         r&b       0.69      0.91      0.78        22\n",
      "      reggae       0.57      0.70      0.63        23\n",
      "        rock       0.11      0.12      0.11        17\n",
      "         ska       0.57      0.65      0.60        20\n",
      "        soul       0.44      0.46      0.45        24\n",
      "\n",
      "    accuracy                           0.50       569\n",
      "   macro avg       0.50      0.49      0.49       569\n",
      "weighted avg       0.51      0.50      0.49       569\n",
      "\n"
     ]
    }
   ],
   "source": [
    "print(classification_report(y_test, y_pred))"
   ]
  },
  {
   "cell_type": "markdown",
   "metadata": {},
   "source": [
    "El modelo tiene dificultades para predecir correctamente muchas clases, probablemente debido a un desbalance de clases y características menos discriminatorias.\n",
    "Ajustamos el modelo para tratar de corregir el desbalance de clases."
   ]
  },
  {
   "cell_type": "code",
   "execution_count": 29,
   "metadata": {},
   "outputs": [
    {
     "name": "stdout",
     "output_type": "stream",
     "text": [
      "Precisión del modelo Random Forest: 0.4938\n"
     ]
    }
   ],
   "source": [
    "# Crear el modelo de Random Forest\n",
    "rf = RandomForestClassifier(n_estimators=100, random_state=42, class_weight='balanced')\n",
    "\n",
    "# Entrenar el modelo\n",
    "rf.fit(X_train, y_train)\n",
    "\n",
    "# Hacer predicciones en el conjunto de prueba\n",
    "y_pred = rf.predict(X_test)\n",
    "\n",
    "# Evaluar la precisión del modelo\n",
    "accuracy = accuracy_score(y_test, y_pred)\n",
    "print(f\"Precisión del modelo Random Forest: {accuracy:.4f}\")"
   ]
  },
  {
   "cell_type": "markdown",
   "metadata": {},
   "source": [
    "Vemos que ha mejorado un poco, vamos a probar con SMOTE para corregir más el desbalance."
   ]
  },
  {
   "cell_type": "markdown",
   "metadata": {},
   "source": [
    "Además de SMOTE estamos usando SMOTEomek para hacer undersampling de las clases mayoritarias "
   ]
  },
  {
   "cell_type": "code",
   "execution_count": 23,
   "metadata": {},
   "outputs": [
    {
     "name": "stdout",
     "output_type": "stream",
     "text": [
      "Precisión del modelo con SMOTE: 0.4991\n",
      "Informe de clasificación con SMOTE:\n",
      "              precision    recall  f1-score   support\n",
      "\n",
      "       Blues       0.42      0.57      0.48        14\n",
      "     Country       0.55      0.43      0.48        14\n",
      "  Electronic       0.38      0.45      0.42        11\n",
      "     Hip Hop       0.16      0.15      0.15        20\n",
      "        Jazz       0.76      0.62      0.68        21\n",
      "         Pop       0.12      0.06      0.08        16\n",
      "         R&B       0.22      0.18      0.20        22\n",
      "         Rap       0.16      0.16      0.16        19\n",
      "      Reggae       0.60      0.46      0.52        13\n",
      "        Rock       0.60      0.38      0.46        24\n",
      " alternative       0.00      0.00      0.00        15\n",
      "       blues       0.61      0.58      0.59        19\n",
      "   classical       0.94      1.00      0.97        15\n",
      "     country       0.72      0.76      0.74        17\n",
      "       disco       0.56      0.71      0.62        14\n",
      "  electronic       0.52      0.42      0.47        26\n",
      "        folk       0.65      0.85      0.74        20\n",
      "     hip hop       0.39      0.53      0.45        17\n",
      "       house       0.65      0.65      0.65        20\n",
      "       indie       0.29      0.26      0.27        23\n",
      "        jazz       0.53      0.47      0.50        19\n",
      "       latin       0.71      0.67      0.69        18\n",
      "       metal       0.75      0.60      0.67        25\n",
      "         pop       0.21      0.21      0.21        19\n",
      "        punk       0.73      0.73      0.73        22\n",
      "         r&b       0.74      0.91      0.82        22\n",
      "      reggae       0.60      0.78      0.68        23\n",
      "        rock       0.15      0.18      0.16        17\n",
      "         ska       0.68      0.65      0.67        20\n",
      "        soul       0.44      0.46      0.45        24\n",
      "\n",
      "    accuracy                           0.50       569\n",
      "   macro avg       0.49      0.50      0.49       569\n",
      "weighted avg       0.50      0.50      0.50       569\n",
      "\n",
      "Precisión del modelo con SMOTETomek: 0.4763\n",
      "Informe de clasificación con SMOTETomek:\n",
      "              precision    recall  f1-score   support\n",
      "\n",
      "       Blues       0.48      0.71      0.57        14\n",
      "     Country       0.50      0.29      0.36        14\n",
      "  Electronic       0.45      0.45      0.45        11\n",
      "     Hip Hop       0.12      0.10      0.11        20\n",
      "        Jazz       0.65      0.52      0.58        21\n",
      "         Pop       0.20      0.12      0.15        16\n",
      "         R&B       0.21      0.18      0.20        22\n",
      "         Rap       0.16      0.16      0.16        19\n",
      "      Reggae       0.45      0.38      0.42        13\n",
      "        Rock       0.44      0.29      0.35        24\n",
      " alternative       0.06      0.13      0.09        15\n",
      "       blues       0.64      0.47      0.55        19\n",
      "   classical       0.93      0.87      0.90        15\n",
      "     country       0.64      0.82      0.72        17\n",
      "       disco       0.56      0.71      0.62        14\n",
      "  electronic       0.58      0.42      0.49        26\n",
      "        folk       0.56      0.75      0.64        20\n",
      "     hip hop       0.32      0.47      0.38        17\n",
      "       house       0.69      0.55      0.61        20\n",
      "       indie       0.23      0.22      0.22        23\n",
      "        jazz       0.59      0.53      0.56        19\n",
      "       latin       0.68      0.72      0.70        18\n",
      "       metal       0.82      0.56      0.67        25\n",
      "         pop       0.20      0.21      0.21        19\n",
      "        punk       0.71      0.77      0.74        22\n",
      "         r&b       0.70      0.86      0.78        22\n",
      "      reggae       0.61      0.87      0.71        23\n",
      "        rock       0.12      0.12      0.12        17\n",
      "         ska       0.61      0.55      0.58        20\n",
      "        soul       0.48      0.42      0.44        24\n",
      "\n",
      "    accuracy                           0.48       569\n",
      "   macro avg       0.48      0.48      0.47       569\n",
      "weighted avg       0.49      0.48      0.47       569\n",
      "\n"
     ]
    }
   ],
   "source": [
    "smote = SMOTE(random_state=42)\n",
    "\n",
    "# Aplicar SMOTE para equilibrar los datos de entrenamiento\n",
    "X_train_smote, y_train_smote = smote.fit_resample(X_train, y_train)\n",
    "\n",
    "smote_tomek = SMOTETomek(random_state=42)\n",
    "\n",
    "# Aplicar SMOTETomek para equilibrar los datos de entrenamiento\n",
    "X_train_res, y_train_res = smote_tomek.fit_resample(X_train, y_train)\n",
    "\n",
    "# Crear el modelo de Random Forest\n",
    "rf = RandomForestClassifier(n_estimators=100, random_state=42)\n",
    "\n",
    "# Entrenar el modelo con los datos equilibrados por SMOTE\n",
    "rf.fit(X_train_smote, y_train_smote)\n",
    "\n",
    "# Hacer predicciones en el conjunto de prueba\n",
    "y_pred_smote = rf.predict(X_test)\n",
    "\n",
    "# Evaluar el modelo con SMOTE\n",
    "accuracy_smote = accuracy_score(y_test, y_pred_smote)\n",
    "print(f\"Precisión del modelo con SMOTE: {accuracy_smote:.4f}\")\n",
    "\n",
    "# Imprimir un informe de clasificación para SMOTE\n",
    "print(\"Informe de clasificación con SMOTE:\")\n",
    "print(classification_report(y_test, y_pred_smote))\n",
    "\n",
    "# Entrenar el modelo con los datos equilibrados por SMOTETomek\n",
    "rf.fit(X_train_res, y_train_res)\n",
    "\n",
    "# Hacer predicciones en el conjunto de prueba\n",
    "y_pred_res = rf.predict(X_test)\n",
    "\n",
    "# Evaluar el modelo con SMOTETomek\n",
    "accuracy_res = accuracy_score(y_test, y_pred_res)\n",
    "print(f\"Precisión del modelo con SMOTETomek: {accuracy_res:.4f}\")\n",
    "\n",
    "# Imprimir un informe de clasificación para SMOTETomek\n",
    "print(\"Informe de clasificación con SMOTETomek:\")\n",
    "print(classification_report(y_test, y_pred_res))\n"
   ]
  },
  {
   "cell_type": "markdown",
   "metadata": {},
   "source": [
    "Ha mejorado un poco, pero sigue siendo poco preciso\n"
   ]
  },
  {
   "cell_type": "markdown",
   "metadata": {},
   "source": [
    "**XGBoost**"
   ]
  },
  {
   "cell_type": "code",
   "execution_count": 31,
   "metadata": {},
   "outputs": [
    {
     "name": "stderr",
     "output_type": "stream",
     "text": [
      "/opt/anaconda3/lib/python3.12/site-packages/xgboost/core.py:158: UserWarning: [19:46:32] WARNING: /Users/runner/work/xgboost/xgboost/src/learner.cc:740: \n",
      "Parameters: { \"use_label_encoder\" } are not used.\n",
      "\n",
      "  warnings.warn(smsg, UserWarning)\n"
     ]
    },
    {
     "name": "stdout",
     "output_type": "stream",
     "text": [
      "Precisión del modelo XGBoost con SMOTE: 0.4584\n",
      "              precision    recall  f1-score   support\n",
      "\n",
      "       Blues       0.45      0.36      0.40        25\n",
      "     Country       0.50      0.32      0.39        25\n",
      "  Electronic       0.14      0.14      0.14        14\n",
      "     Hip Hop       0.17      0.16      0.16        25\n",
      "        Jazz       0.73      0.48      0.58        33\n",
      "         Pop       0.25      0.15      0.19        26\n",
      "         R&B       0.30      0.24      0.27        29\n",
      "         Rap       0.24      0.21      0.23        28\n",
      "      Reggae       0.41      0.52      0.46        21\n",
      "        Rock       0.50      0.42      0.46        33\n",
      " alternative       0.00      0.00      0.00        23\n",
      "       blues       0.59      0.53      0.56        36\n",
      "   classical       0.75      1.00      0.86        21\n",
      "     country       0.59      0.63      0.61        27\n",
      "       disco       0.47      0.58      0.52        24\n",
      "  electronic       0.47      0.38      0.42        39\n",
      "        folk       0.60      0.78      0.68        27\n",
      "     hip hop       0.37      0.46      0.41        28\n",
      "       house       0.55      0.67      0.60        27\n",
      "       indie       0.26      0.26      0.26        34\n",
      "        jazz       0.48      0.41      0.44        32\n",
      "       latin       0.59      0.50      0.54        32\n",
      "       metal       0.72      0.55      0.62        33\n",
      "         pop       0.23      0.26      0.24        27\n",
      "        punk       0.80      0.75      0.77        32\n",
      "         r&b       0.69      0.88      0.77        33\n",
      "      reggae       0.42      0.60      0.49        30\n",
      "        rock       0.09      0.11      0.10        28\n",
      "         ska       0.70      0.55      0.62        29\n",
      "        soul       0.51      0.59      0.55        32\n",
      "\n",
      "    accuracy                           0.46       853\n",
      "   macro avg       0.45      0.45      0.44       853\n",
      "weighted avg       0.47      0.46      0.46       853\n",
      "\n"
     ]
    }
   ],
   "source": [
    "# Codificar las etiquetas de los géneros (de texto a numérico)\n",
    "label_encoder = LabelEncoder()\n",
    "y_encoded = label_encoder.fit_transform(y)\n",
    "\n",
    "# Escalar las características numéricas\n",
    "scaler = StandardScaler()\n",
    "X_scaled = scaler.fit_transform(X)\n",
    "\n",
    "# Dividir los datos en conjunto de entrenamiento y prueba\n",
    "X_train, X_test, y_train, y_test = train_test_split(X_scaled, y_encoded, test_size=0.3, random_state=42)\n",
    "\n",
    "# Aplicar SMOTE para equilibrar las clases en el conjunto de entrenamiento\n",
    "smote = SMOTE(random_state=42)\n",
    "X_train_smote, y_train_smote = smote.fit_resample(X_train, y_train)\n",
    "\n",
    "# Crear el modelo de XGBoost\n",
    "xgb_model = XGBClassifier(n_estimators=100, random_state=42, use_label_encoder=False, eval_metric='mlogloss')\n",
    "\n",
    "# Entrenar el modelo con los datos equilibrados por SMOTE\n",
    "xgb_model.fit(X_train_smote, y_train_smote)\n",
    "\n",
    "# Hacer predicciones en el conjunto de prueba\n",
    "y_pred = xgb_model.predict(X_test)\n",
    "\n",
    "# Decodificar las predicciones para que se correspondan con los nombres originales de los géneros\n",
    "y_pred_decoded = label_encoder.inverse_transform(y_pred)\n",
    "y_test_decoded = label_encoder.inverse_transform(y_test)\n",
    "\n",
    "# Evaluar el modelo\n",
    "accuracy = accuracy_score(y_test_decoded, y_pred_decoded)\n",
    "print(f\"Precisión del modelo XGBoost con SMOTE: {accuracy:.4f}\")\n",
    "\n",
    "# Imprimir un informe de clasificación\n",
    "print(classification_report(y_test_decoded, y_pred_decoded))"
   ]
  },
  {
   "cell_type": "markdown",
   "metadata": {},
   "source": [
    "Peor que el intento anterior, de momento el que nos ha dado mejores resultados ha sido Random Forest con SMOTE y SMOTETomek.\n",
    "\n",
    "**Probamos con un grid search**"
   ]
  },
  {
   "cell_type": "code",
   "execution_count": 33,
   "metadata": {},
   "outputs": [
    {
     "name": "stdout",
     "output_type": "stream",
     "text": [
      "Mejores parámetros: {'max_depth': 20, 'min_samples_leaf': 1, 'min_samples_split': 2, 'n_estimators': 300}\n",
      "Precisión del modelo Random Forest optimizado: 0.4596\n",
      "              precision    recall  f1-score   support\n",
      "\n",
      "           0       0.35      0.44      0.39        25\n",
      "           1       0.50      0.44      0.47        25\n",
      "           2       0.20      0.21      0.21        14\n",
      "           3       0.18      0.16      0.17        25\n",
      "           4       0.73      0.58      0.64        33\n",
      "           5       0.36      0.19      0.25        26\n",
      "           6       0.26      0.21      0.23        29\n",
      "           7       0.14      0.14      0.14        28\n",
      "           8       0.38      0.43      0.40        21\n",
      "           9       0.50      0.36      0.42        33\n",
      "          10       0.00      0.00      0.00        23\n",
      "          11       0.58      0.61      0.59        36\n",
      "          12       0.84      1.00      0.91        21\n",
      "          13       0.52      0.59      0.55        27\n",
      "          14       0.41      0.50      0.45        24\n",
      "          15       0.50      0.38      0.43        39\n",
      "          16       0.56      0.81      0.67        27\n",
      "          17       0.33      0.36      0.34        28\n",
      "          18       0.70      0.78      0.74        27\n",
      "          19       0.30      0.24      0.26        34\n",
      "          20       0.52      0.41      0.46        32\n",
      "          21       0.72      0.56      0.63        32\n",
      "          22       0.63      0.58      0.60        33\n",
      "          23       0.22      0.30      0.25        27\n",
      "          24       0.61      0.72      0.66        32\n",
      "          25       0.69      0.82      0.75        33\n",
      "          26       0.46      0.63      0.54        30\n",
      "          27       0.10      0.11      0.10        28\n",
      "          28       0.64      0.62      0.63        29\n",
      "          29       0.50      0.41      0.45        32\n",
      "\n",
      "    accuracy                           0.46       853\n",
      "   macro avg       0.45      0.45      0.45       853\n",
      "weighted avg       0.46      0.46      0.46       853\n",
      "\n"
     ]
    }
   ],
   "source": [
    "# Definir el espacio de búsqueda de hiperparámetros\n",
    "param_grid = {\n",
    "    'n_estimators': [100, 200, 300],\n",
    "    'max_depth': [10, 20, None],\n",
    "    'min_samples_split': [2, 5, 10],\n",
    "    'min_samples_leaf': [1, 2, 4]\n",
    "}\n",
    "\n",
    "# Configurar GridSearchCV\n",
    "grid_search = GridSearchCV(estimator=rf, param_grid=param_grid, cv=5, n_jobs=-1, verbose=0)  # Cambiar verbose a 0\n",
    "\n",
    "# Ajustar el modelo con los datos equilibrados por SMOTE\n",
    "grid_search.fit(X_train_smote, y_train_smote)\n",
    "\n",
    "# Usar el mejor modelo\n",
    "best_rf = grid_search.best_estimator_\n",
    "\n",
    "# Obtener los mejores hiperparámetros\n",
    "best_params = grid_search.best_params_\n",
    "\n",
    "# Hacer predicciones en el conjunto de prueba\n",
    "y_pred_best = best_rf.predict(X_test)\n",
    "\n",
    "# Evaluar el modelo optimizado\n",
    "accuracy_best = accuracy_score(y_test, y_pred_best)\n",
    "\n",
    "# Imprimir resultados finales\n",
    "print(f\"Mejores parámetros: {best_params}\")  # Agregar impresión de los mejores parámetros\n",
    "print(f\"Precisión del modelo Random Forest optimizado: {accuracy_best:.4f}\")\n",
    "print(classification_report(y_test, y_pred_best))"
   ]
  }
 ],
 "metadata": {
  "kernelspec": {
   "display_name": "base",
   "language": "python",
   "name": "python3"
  },
  "language_info": {
   "codemirror_mode": {
    "name": "ipython",
    "version": 3
   },
   "file_extension": ".py",
   "mimetype": "text/x-python",
   "name": "python",
   "nbconvert_exporter": "python",
   "pygments_lexer": "ipython3",
   "version": "3.12.4"
  }
 },
 "nbformat": 4,
 "nbformat_minor": 2
}
