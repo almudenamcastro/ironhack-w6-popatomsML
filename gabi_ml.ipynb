{
 "cells": [
  {
   "cell_type": "code",
   "execution_count": 147,
   "metadata": {},
   "outputs": [],
   "source": [
    "import pandas as pd\n",
    "from sklearn.model_selection import train_test_split\n",
    "from sklearn.ensemble import RandomForestClassifier\n",
    "from sklearn.metrics import classification_report, confusion_matrix\n",
    "import seaborn as sns\n",
    "import matplotlib.pyplot as plt\n",
    "from sklearn.linear_model import LogisticRegression"
   ]
  },
  {
   "cell_type": "code",
   "execution_count": 148,
   "metadata": {},
   "outputs": [],
   "source": [
    "songs = pd.read_csv('spotify.csv')\n",
    "\n",
    "# Mostrar las primeras filas\n"
   ]
  },
  {
   "cell_type": "code",
   "execution_count": 149,
   "metadata": {},
   "outputs": [
    {
     "name": "stdout",
     "output_type": "stream",
     "text": [
      "<class 'pandas.core.frame.DataFrame'>\n",
      "RangeIndex: 1000 entries, 0 to 999\n",
      "Data columns (total 21 columns):\n",
      " #   Column            Non-Null Count  Dtype  \n",
      "---  ------            --------------  -----  \n",
      " 0   Title             1000 non-null   object \n",
      " 1   Genre             1000 non-null   object \n",
      " 2   Artist            1000 non-null   object \n",
      " 3   id                1000 non-null   object \n",
      " 4   title_spotify     1000 non-null   object \n",
      " 5   album             1000 non-null   object \n",
      " 6   sp_popularity     1000 non-null   float64\n",
      " 7   colab             1000 non-null   object \n",
      " 8   release_date      1000 non-null   object \n",
      " 9   danceability      1000 non-null   float64\n",
      " 10  energy            1000 non-null   float64\n",
      " 11  loudness          1000 non-null   float64\n",
      " 12  speechiness       1000 non-null   float64\n",
      " 13  acousticness      1000 non-null   float64\n",
      " 14  instrumentalness  1000 non-null   float64\n",
      " 15  liveness          1000 non-null   float64\n",
      " 16  valence           1000 non-null   float64\n",
      " 17  key               1000 non-null   float64\n",
      " 18  mode              1000 non-null   float64\n",
      " 19  tempo             1000 non-null   float64\n",
      " 20  duration          1000 non-null   float64\n",
      "dtypes: float64(13), object(8)\n",
      "memory usage: 164.2+ KB\n"
     ]
    }
   ],
   "source": [
    "songs.info()"
   ]
  },
  {
   "cell_type": "markdown",
   "metadata": {},
   "source": [
    "**Colab está en Y o N que pase a booleano**"
   ]
  },
  {
   "cell_type": "code",
   "execution_count": 150,
   "metadata": {},
   "outputs": [
    {
     "name": "stderr",
     "output_type": "stream",
     "text": [
      "/var/folders/b7/hph07_m53vv3yzmmfgf8b7fm0000gn/T/ipykernel_45495/1601697439.py:2: FutureWarning: Downcasting behavior in `replace` is deprecated and will be removed in a future version. To retain the old behavior, explicitly call `result.infer_objects(copy=False)`. To opt-in to the future behavior, set `pd.set_option('future.no_silent_downcasting', True)`\n",
      "  songs['colab'] = songs['colab'].replace({'Y': True, 'N': False})\n"
     ]
    }
   ],
   "source": [
    "songs['release_date'] = pd.to_datetime(songs['release_date'], errors='coerce')\n",
    "songs['colab'] = songs['colab'].replace({'Y': True, 'N': False})"
   ]
  },
  {
   "cell_type": "code",
   "execution_count": 151,
   "metadata": {},
   "outputs": [
    {
     "name": "stdout",
     "output_type": "stream",
     "text": [
      "<class 'pandas.core.frame.DataFrame'>\n",
      "RangeIndex: 1000 entries, 0 to 999\n",
      "Data columns (total 21 columns):\n",
      " #   Column            Non-Null Count  Dtype         \n",
      "---  ------            --------------  -----         \n",
      " 0   Title             1000 non-null   object        \n",
      " 1   Genre             1000 non-null   object        \n",
      " 2   Artist            1000 non-null   object        \n",
      " 3   id                1000 non-null   object        \n",
      " 4   title_spotify     1000 non-null   object        \n",
      " 5   album             1000 non-null   object        \n",
      " 6   sp_popularity     1000 non-null   float64       \n",
      " 7   colab             1000 non-null   bool          \n",
      " 8   release_date      922 non-null    datetime64[ns]\n",
      " 9   danceability      1000 non-null   float64       \n",
      " 10  energy            1000 non-null   float64       \n",
      " 11  loudness          1000 non-null   float64       \n",
      " 12  speechiness       1000 non-null   float64       \n",
      " 13  acousticness      1000 non-null   float64       \n",
      " 14  instrumentalness  1000 non-null   float64       \n",
      " 15  liveness          1000 non-null   float64       \n",
      " 16  valence           1000 non-null   float64       \n",
      " 17  key               1000 non-null   float64       \n",
      " 18  mode              1000 non-null   float64       \n",
      " 19  tempo             1000 non-null   float64       \n",
      " 20  duration          1000 non-null   float64       \n",
      "dtypes: bool(1), datetime64[ns](1), float64(13), object(6)\n",
      "memory usage: 157.4+ KB\n"
     ]
    }
   ],
   "source": [
    "songs.info()"
   ]
  },
  {
   "cell_type": "code",
   "execution_count": 152,
   "metadata": {},
   "outputs": [],
   "source": [
    "songs.dropna(inplace=True)\n",
    "songs.reset_index(drop=True, inplace=True)"
   ]
  },
  {
   "cell_type": "code",
   "execution_count": 153,
   "metadata": {},
   "outputs": [],
   "source": [
    "songs = pd.get_dummies(songs, columns=['Genre'], drop_first=True)\n",
    "songs.reset_index(drop=True, inplace=True)"
   ]
  },
  {
   "cell_type": "code",
   "execution_count": 154,
   "metadata": {},
   "outputs": [
    {
     "data": {
      "text/plain": [
       "Index(['Title', 'Artist', 'id', 'title_spotify', 'album', 'sp_popularity',\n",
       "       'colab', 'release_date', 'danceability', 'energy', 'loudness',\n",
       "       'speechiness', 'acousticness', 'instrumentalness', 'liveness',\n",
       "       'valence', 'key', 'mode', 'tempo', 'duration', 'Genre_blues',\n",
       "       'Genre_classical', 'Genre_country', 'Genre_disco', 'Genre_electronic',\n",
       "       'Genre_folk', 'Genre_hip hop', 'Genre_house', 'Genre_indie',\n",
       "       'Genre_jazz', 'Genre_latin', 'Genre_metal', 'Genre_pop', 'Genre_punk',\n",
       "       'Genre_r&b', 'Genre_reggae', 'Genre_rock', 'Genre_ska', 'Genre_soul'],\n",
       "      dtype='object')"
      ]
     },
     "execution_count": 154,
     "metadata": {},
     "output_type": "execute_result"
    }
   ],
   "source": [
    "songs.columns"
   ]
  },
  {
   "cell_type": "code",
   "execution_count": 155,
   "metadata": {},
   "outputs": [],
   "source": [
    "songs.drop(columns=['Genre_classical'], inplace=True)"
   ]
  },
  {
   "cell_type": "code",
   "execution_count": 156,
   "metadata": {},
   "outputs": [],
   "source": [
    "X = songs[['danceability', 'energy', 'loudness',\n",
    "       'speechiness', 'acousticness', 'instrumentalness', 'liveness',\n",
    "       'valence', 'key', 'mode', 'tempo', 'duration']]\n",
    "y = songs[[col for col in songs.columns if col.startswith('Genre_')]]\n",
    "\n",
    "X = X.dropna()\n",
    "y = y.dropna()\n",
    "\n",
    "X_train, X_test, y_train, y_test = train_test_split(X, y, test_size=0.2, random_state=42)"
   ]
  },
  {
   "cell_type": "code",
   "execution_count": 157,
   "metadata": {},
   "outputs": [
    {
     "name": "stdout",
     "output_type": "stream",
     "text": [
      "Reporte de clasificación para Genre_blues:\n",
      "              precision    recall  f1-score   support\n",
      "\n",
      "       False       0.95      1.00      0.97       175\n",
      "        True       0.00      0.00      0.00        10\n",
      "\n",
      "    accuracy                           0.95       185\n",
      "   macro avg       0.47      0.50      0.49       185\n",
      "weighted avg       0.89      0.95      0.92       185\n",
      "\n",
      "Reporte de clasificación para Genre_country:\n",
      "              precision    recall  f1-score   support\n",
      "\n",
      "       False       0.92      1.00      0.96       171\n",
      "        True       0.00      0.00      0.00        14\n",
      "\n",
      "    accuracy                           0.92       185\n",
      "   macro avg       0.46      0.50      0.48       185\n",
      "weighted avg       0.85      0.92      0.89       185\n",
      "\n",
      "Reporte de clasificación para Genre_disco:\n",
      "              precision    recall  f1-score   support\n",
      "\n",
      "       False       0.95      1.00      0.98       176\n",
      "        True       0.00      0.00      0.00         9\n",
      "\n",
      "    accuracy                           0.95       185\n",
      "   macro avg       0.48      0.50      0.49       185\n",
      "weighted avg       0.91      0.95      0.93       185\n",
      "\n"
     ]
    },
    {
     "name": "stderr",
     "output_type": "stream",
     "text": [
      "/opt/anaconda3/lib/python3.12/site-packages/sklearn/metrics/_classification.py:1509: UndefinedMetricWarning: Precision is ill-defined and being set to 0.0 in labels with no predicted samples. Use `zero_division` parameter to control this behavior.\n",
      "  _warn_prf(average, modifier, f\"{metric.capitalize()} is\", len(result))\n",
      "/opt/anaconda3/lib/python3.12/site-packages/sklearn/metrics/_classification.py:1509: UndefinedMetricWarning: Precision is ill-defined and being set to 0.0 in labels with no predicted samples. Use `zero_division` parameter to control this behavior.\n",
      "  _warn_prf(average, modifier, f\"{metric.capitalize()} is\", len(result))\n",
      "/opt/anaconda3/lib/python3.12/site-packages/sklearn/metrics/_classification.py:1509: UndefinedMetricWarning: Precision is ill-defined and being set to 0.0 in labels with no predicted samples. Use `zero_division` parameter to control this behavior.\n",
      "  _warn_prf(average, modifier, f\"{metric.capitalize()} is\", len(result))\n",
      "/opt/anaconda3/lib/python3.12/site-packages/sklearn/metrics/_classification.py:1509: UndefinedMetricWarning: Precision is ill-defined and being set to 0.0 in labels with no predicted samples. Use `zero_division` parameter to control this behavior.\n",
      "  _warn_prf(average, modifier, f\"{metric.capitalize()} is\", len(result))\n",
      "/opt/anaconda3/lib/python3.12/site-packages/sklearn/metrics/_classification.py:1509: UndefinedMetricWarning: Precision is ill-defined and being set to 0.0 in labels with no predicted samples. Use `zero_division` parameter to control this behavior.\n",
      "  _warn_prf(average, modifier, f\"{metric.capitalize()} is\", len(result))\n",
      "/opt/anaconda3/lib/python3.12/site-packages/sklearn/metrics/_classification.py:1509: UndefinedMetricWarning: Precision is ill-defined and being set to 0.0 in labels with no predicted samples. Use `zero_division` parameter to control this behavior.\n",
      "  _warn_prf(average, modifier, f\"{metric.capitalize()} is\", len(result))\n",
      "/opt/anaconda3/lib/python3.12/site-packages/sklearn/metrics/_classification.py:1509: UndefinedMetricWarning: Precision is ill-defined and being set to 0.0 in labels with no predicted samples. Use `zero_division` parameter to control this behavior.\n",
      "  _warn_prf(average, modifier, f\"{metric.capitalize()} is\", len(result))\n",
      "/opt/anaconda3/lib/python3.12/site-packages/sklearn/metrics/_classification.py:1509: UndefinedMetricWarning: Precision is ill-defined and being set to 0.0 in labels with no predicted samples. Use `zero_division` parameter to control this behavior.\n",
      "  _warn_prf(average, modifier, f\"{metric.capitalize()} is\", len(result))\n",
      "/opt/anaconda3/lib/python3.12/site-packages/sklearn/metrics/_classification.py:1509: UndefinedMetricWarning: Precision is ill-defined and being set to 0.0 in labels with no predicted samples. Use `zero_division` parameter to control this behavior.\n",
      "  _warn_prf(average, modifier, f\"{metric.capitalize()} is\", len(result))\n"
     ]
    },
    {
     "name": "stdout",
     "output_type": "stream",
     "text": [
      "Reporte de clasificación para Genre_electronic:\n",
      "              precision    recall  f1-score   support\n",
      "\n",
      "       False       0.96      1.00      0.98       177\n",
      "        True       0.00      0.00      0.00         8\n",
      "\n",
      "    accuracy                           0.96       185\n",
      "   macro avg       0.48      0.50      0.49       185\n",
      "weighted avg       0.92      0.96      0.94       185\n",
      "\n",
      "Reporte de clasificación para Genre_folk:\n",
      "              precision    recall  f1-score   support\n",
      "\n",
      "       False       0.96      1.00      0.98       177\n",
      "        True       0.00      0.00      0.00         8\n",
      "\n",
      "    accuracy                           0.96       185\n",
      "   macro avg       0.48      0.50      0.49       185\n",
      "weighted avg       0.92      0.96      0.94       185\n",
      "\n",
      "Reporte de clasificación para Genre_hip hop:\n",
      "              precision    recall  f1-score   support\n",
      "\n",
      "       False       0.97      1.00      0.98       179\n",
      "        True       0.00      0.00      0.00         6\n",
      "\n",
      "    accuracy                           0.97       185\n",
      "   macro avg       0.48      0.50      0.49       185\n",
      "weighted avg       0.94      0.97      0.95       185\n",
      "\n",
      "Reporte de clasificación para Genre_house:\n",
      "              precision    recall  f1-score   support\n",
      "\n",
      "       False       0.93      0.99      0.96       173\n",
      "        True       0.00      0.00      0.00        12\n",
      "\n",
      "    accuracy                           0.93       185\n",
      "   macro avg       0.47      0.50      0.48       185\n",
      "weighted avg       0.87      0.93      0.90       185\n",
      "\n",
      "Reporte de clasificación para Genre_indie:\n",
      "              precision    recall  f1-score   support\n",
      "\n",
      "       False       0.96      1.00      0.98       178\n",
      "        True       0.00      0.00      0.00         7\n",
      "\n",
      "    accuracy                           0.96       185\n",
      "   macro avg       0.48      0.50      0.49       185\n",
      "weighted avg       0.93      0.96      0.94       185\n",
      "\n"
     ]
    },
    {
     "name": "stderr",
     "output_type": "stream",
     "text": [
      "/opt/anaconda3/lib/python3.12/site-packages/sklearn/metrics/_classification.py:1509: UndefinedMetricWarning: Precision is ill-defined and being set to 0.0 in labels with no predicted samples. Use `zero_division` parameter to control this behavior.\n",
      "  _warn_prf(average, modifier, f\"{metric.capitalize()} is\", len(result))\n",
      "/opt/anaconda3/lib/python3.12/site-packages/sklearn/metrics/_classification.py:1509: UndefinedMetricWarning: Precision is ill-defined and being set to 0.0 in labels with no predicted samples. Use `zero_division` parameter to control this behavior.\n",
      "  _warn_prf(average, modifier, f\"{metric.capitalize()} is\", len(result))\n",
      "/opt/anaconda3/lib/python3.12/site-packages/sklearn/metrics/_classification.py:1509: UndefinedMetricWarning: Precision is ill-defined and being set to 0.0 in labels with no predicted samples. Use `zero_division` parameter to control this behavior.\n",
      "  _warn_prf(average, modifier, f\"{metric.capitalize()} is\", len(result))\n",
      "/opt/anaconda3/lib/python3.12/site-packages/sklearn/metrics/_classification.py:1509: UndefinedMetricWarning: Precision is ill-defined and being set to 0.0 in labels with no predicted samples. Use `zero_division` parameter to control this behavior.\n",
      "  _warn_prf(average, modifier, f\"{metric.capitalize()} is\", len(result))\n",
      "/opt/anaconda3/lib/python3.12/site-packages/sklearn/metrics/_classification.py:1509: UndefinedMetricWarning: Precision is ill-defined and being set to 0.0 in labels with no predicted samples. Use `zero_division` parameter to control this behavior.\n",
      "  _warn_prf(average, modifier, f\"{metric.capitalize()} is\", len(result))\n",
      "/opt/anaconda3/lib/python3.12/site-packages/sklearn/metrics/_classification.py:1509: UndefinedMetricWarning: Precision is ill-defined and being set to 0.0 in labels with no predicted samples. Use `zero_division` parameter to control this behavior.\n",
      "  _warn_prf(average, modifier, f\"{metric.capitalize()} is\", len(result))\n",
      "/opt/anaconda3/lib/python3.12/site-packages/sklearn/metrics/_classification.py:1509: UndefinedMetricWarning: Precision is ill-defined and being set to 0.0 in labels with no predicted samples. Use `zero_division` parameter to control this behavior.\n",
      "  _warn_prf(average, modifier, f\"{metric.capitalize()} is\", len(result))\n",
      "/opt/anaconda3/lib/python3.12/site-packages/sklearn/metrics/_classification.py:1509: UndefinedMetricWarning: Precision is ill-defined and being set to 0.0 in labels with no predicted samples. Use `zero_division` parameter to control this behavior.\n",
      "  _warn_prf(average, modifier, f\"{metric.capitalize()} is\", len(result))\n",
      "/opt/anaconda3/lib/python3.12/site-packages/sklearn/metrics/_classification.py:1509: UndefinedMetricWarning: Precision is ill-defined and being set to 0.0 in labels with no predicted samples. Use `zero_division` parameter to control this behavior.\n",
      "  _warn_prf(average, modifier, f\"{metric.capitalize()} is\", len(result))\n",
      "/opt/anaconda3/lib/python3.12/site-packages/sklearn/metrics/_classification.py:1509: UndefinedMetricWarning: Precision is ill-defined and being set to 0.0 in labels with no predicted samples. Use `zero_division` parameter to control this behavior.\n",
      "  _warn_prf(average, modifier, f\"{metric.capitalize()} is\", len(result))\n",
      "/opt/anaconda3/lib/python3.12/site-packages/sklearn/metrics/_classification.py:1509: UndefinedMetricWarning: Precision is ill-defined and being set to 0.0 in labels with no predicted samples. Use `zero_division` parameter to control this behavior.\n",
      "  _warn_prf(average, modifier, f\"{metric.capitalize()} is\", len(result))\n",
      "/opt/anaconda3/lib/python3.12/site-packages/sklearn/metrics/_classification.py:1509: UndefinedMetricWarning: Precision is ill-defined and being set to 0.0 in labels with no predicted samples. Use `zero_division` parameter to control this behavior.\n",
      "  _warn_prf(average, modifier, f\"{metric.capitalize()} is\", len(result))\n"
     ]
    },
    {
     "name": "stdout",
     "output_type": "stream",
     "text": [
      "Reporte de clasificación para Genre_jazz:\n",
      "              precision    recall  f1-score   support\n",
      "\n",
      "       False       0.96      1.00      0.98       178\n",
      "        True       0.00      0.00      0.00         7\n",
      "\n",
      "    accuracy                           0.96       185\n",
      "   macro avg       0.48      0.50      0.49       185\n",
      "weighted avg       0.93      0.96      0.94       185\n",
      "\n"
     ]
    },
    {
     "name": "stderr",
     "output_type": "stream",
     "text": [
      "/opt/anaconda3/lib/python3.12/site-packages/sklearn/metrics/_classification.py:1509: UndefinedMetricWarning: Precision is ill-defined and being set to 0.0 in labels with no predicted samples. Use `zero_division` parameter to control this behavior.\n",
      "  _warn_prf(average, modifier, f\"{metric.capitalize()} is\", len(result))\n",
      "/opt/anaconda3/lib/python3.12/site-packages/sklearn/metrics/_classification.py:1509: UndefinedMetricWarning: Precision is ill-defined and being set to 0.0 in labels with no predicted samples. Use `zero_division` parameter to control this behavior.\n",
      "  _warn_prf(average, modifier, f\"{metric.capitalize()} is\", len(result))\n",
      "/opt/anaconda3/lib/python3.12/site-packages/sklearn/metrics/_classification.py:1509: UndefinedMetricWarning: Precision is ill-defined and being set to 0.0 in labels with no predicted samples. Use `zero_division` parameter to control this behavior.\n",
      "  _warn_prf(average, modifier, f\"{metric.capitalize()} is\", len(result))\n"
     ]
    },
    {
     "name": "stdout",
     "output_type": "stream",
     "text": [
      "Reporte de clasificación para Genre_latin:\n",
      "              precision    recall  f1-score   support\n",
      "\n",
      "       False       0.96      1.00      0.98       177\n",
      "        True       0.00      0.00      0.00         8\n",
      "\n",
      "    accuracy                           0.96       185\n",
      "   macro avg       0.48      0.50      0.49       185\n",
      "weighted avg       0.92      0.96      0.94       185\n",
      "\n",
      "Reporte de clasificación para Genre_metal:\n",
      "              precision    recall  f1-score   support\n",
      "\n",
      "       False       0.97      1.00      0.99       180\n",
      "        True       0.00      0.00      0.00         5\n",
      "\n",
      "    accuracy                           0.97       185\n",
      "   macro avg       0.49      0.50      0.49       185\n",
      "weighted avg       0.95      0.97      0.96       185\n",
      "\n",
      "Reporte de clasificación para Genre_pop:\n",
      "              precision    recall  f1-score   support\n",
      "\n",
      "       False       0.97      1.00      0.98       179\n",
      "        True       0.00      0.00      0.00         6\n",
      "\n",
      "    accuracy                           0.97       185\n",
      "   macro avg       0.48      0.50      0.49       185\n",
      "weighted avg       0.94      0.97      0.95       185\n",
      "\n"
     ]
    },
    {
     "name": "stderr",
     "output_type": "stream",
     "text": [
      "/opt/anaconda3/lib/python3.12/site-packages/sklearn/metrics/_classification.py:1509: UndefinedMetricWarning: Precision is ill-defined and being set to 0.0 in labels with no predicted samples. Use `zero_division` parameter to control this behavior.\n",
      "  _warn_prf(average, modifier, f\"{metric.capitalize()} is\", len(result))\n",
      "/opt/anaconda3/lib/python3.12/site-packages/sklearn/metrics/_classification.py:1509: UndefinedMetricWarning: Precision is ill-defined and being set to 0.0 in labels with no predicted samples. Use `zero_division` parameter to control this behavior.\n",
      "  _warn_prf(average, modifier, f\"{metric.capitalize()} is\", len(result))\n",
      "/opt/anaconda3/lib/python3.12/site-packages/sklearn/metrics/_classification.py:1509: UndefinedMetricWarning: Precision is ill-defined and being set to 0.0 in labels with no predicted samples. Use `zero_division` parameter to control this behavior.\n",
      "  _warn_prf(average, modifier, f\"{metric.capitalize()} is\", len(result))\n",
      "/opt/anaconda3/lib/python3.12/site-packages/sklearn/metrics/_classification.py:1509: UndefinedMetricWarning: Precision is ill-defined and being set to 0.0 in labels with no predicted samples. Use `zero_division` parameter to control this behavior.\n",
      "  _warn_prf(average, modifier, f\"{metric.capitalize()} is\", len(result))\n",
      "/opt/anaconda3/lib/python3.12/site-packages/sklearn/metrics/_classification.py:1509: UndefinedMetricWarning: Precision is ill-defined and being set to 0.0 in labels with no predicted samples. Use `zero_division` parameter to control this behavior.\n",
      "  _warn_prf(average, modifier, f\"{metric.capitalize()} is\", len(result))\n",
      "/opt/anaconda3/lib/python3.12/site-packages/sklearn/metrics/_classification.py:1509: UndefinedMetricWarning: Precision is ill-defined and being set to 0.0 in labels with no predicted samples. Use `zero_division` parameter to control this behavior.\n",
      "  _warn_prf(average, modifier, f\"{metric.capitalize()} is\", len(result))\n",
      "/opt/anaconda3/lib/python3.12/site-packages/sklearn/metrics/_classification.py:1509: UndefinedMetricWarning: Precision is ill-defined and being set to 0.0 in labels with no predicted samples. Use `zero_division` parameter to control this behavior.\n",
      "  _warn_prf(average, modifier, f\"{metric.capitalize()} is\", len(result))\n",
      "/opt/anaconda3/lib/python3.12/site-packages/sklearn/metrics/_classification.py:1509: UndefinedMetricWarning: Precision is ill-defined and being set to 0.0 in labels with no predicted samples. Use `zero_division` parameter to control this behavior.\n",
      "  _warn_prf(average, modifier, f\"{metric.capitalize()} is\", len(result))\n",
      "/opt/anaconda3/lib/python3.12/site-packages/sklearn/metrics/_classification.py:1509: UndefinedMetricWarning: Precision is ill-defined and being set to 0.0 in labels with no predicted samples. Use `zero_division` parameter to control this behavior.\n",
      "  _warn_prf(average, modifier, f\"{metric.capitalize()} is\", len(result))\n"
     ]
    },
    {
     "name": "stdout",
     "output_type": "stream",
     "text": [
      "Reporte de clasificación para Genre_punk:\n",
      "              precision    recall  f1-score   support\n",
      "\n",
      "       False       0.96      1.00      0.98       177\n",
      "        True       0.00      0.00      0.00         8\n",
      "\n",
      "    accuracy                           0.96       185\n",
      "   macro avg       0.48      0.50      0.49       185\n",
      "weighted avg       0.92      0.96      0.94       185\n",
      "\n",
      "Reporte de clasificación para Genre_r&b:\n",
      "              precision    recall  f1-score   support\n",
      "\n",
      "       False       0.94      1.00      0.97       174\n",
      "        True       0.00      0.00      0.00        11\n",
      "\n",
      "    accuracy                           0.94       185\n",
      "   macro avg       0.47      0.50      0.48       185\n",
      "weighted avg       0.88      0.94      0.91       185\n",
      "\n"
     ]
    },
    {
     "name": "stderr",
     "output_type": "stream",
     "text": [
      "/opt/anaconda3/lib/python3.12/site-packages/sklearn/metrics/_classification.py:1509: UndefinedMetricWarning: Precision is ill-defined and being set to 0.0 in labels with no predicted samples. Use `zero_division` parameter to control this behavior.\n",
      "  _warn_prf(average, modifier, f\"{metric.capitalize()} is\", len(result))\n",
      "/opt/anaconda3/lib/python3.12/site-packages/sklearn/metrics/_classification.py:1509: UndefinedMetricWarning: Precision is ill-defined and being set to 0.0 in labels with no predicted samples. Use `zero_division` parameter to control this behavior.\n",
      "  _warn_prf(average, modifier, f\"{metric.capitalize()} is\", len(result))\n",
      "/opt/anaconda3/lib/python3.12/site-packages/sklearn/metrics/_classification.py:1509: UndefinedMetricWarning: Precision is ill-defined and being set to 0.0 in labels with no predicted samples. Use `zero_division` parameter to control this behavior.\n",
      "  _warn_prf(average, modifier, f\"{metric.capitalize()} is\", len(result))\n",
      "/opt/anaconda3/lib/python3.12/site-packages/sklearn/metrics/_classification.py:1509: UndefinedMetricWarning: Precision is ill-defined and being set to 0.0 in labels with no predicted samples. Use `zero_division` parameter to control this behavior.\n",
      "  _warn_prf(average, modifier, f\"{metric.capitalize()} is\", len(result))\n",
      "/opt/anaconda3/lib/python3.12/site-packages/sklearn/metrics/_classification.py:1509: UndefinedMetricWarning: Precision is ill-defined and being set to 0.0 in labels with no predicted samples. Use `zero_division` parameter to control this behavior.\n",
      "  _warn_prf(average, modifier, f\"{metric.capitalize()} is\", len(result))\n",
      "/opt/anaconda3/lib/python3.12/site-packages/sklearn/metrics/_classification.py:1509: UndefinedMetricWarning: Precision is ill-defined and being set to 0.0 in labels with no predicted samples. Use `zero_division` parameter to control this behavior.\n",
      "  _warn_prf(average, modifier, f\"{metric.capitalize()} is\", len(result))\n"
     ]
    },
    {
     "name": "stdout",
     "output_type": "stream",
     "text": [
      "Reporte de clasificación para Genre_reggae:\n",
      "              precision    recall  f1-score   support\n",
      "\n",
      "       False       0.92      1.00      0.96       171\n",
      "        True       0.00      0.00      0.00        14\n",
      "\n",
      "    accuracy                           0.92       185\n",
      "   macro avg       0.46      0.50      0.48       185\n",
      "weighted avg       0.85      0.92      0.89       185\n",
      "\n",
      "Reporte de clasificación para Genre_rock:\n",
      "              precision    recall  f1-score   support\n",
      "\n",
      "       False       0.92      1.00      0.96       170\n",
      "        True       0.00      0.00      0.00        15\n",
      "\n",
      "    accuracy                           0.92       185\n",
      "   macro avg       0.46      0.50      0.48       185\n",
      "weighted avg       0.84      0.92      0.88       185\n",
      "\n"
     ]
    },
    {
     "name": "stderr",
     "output_type": "stream",
     "text": [
      "/opt/anaconda3/lib/python3.12/site-packages/sklearn/metrics/_classification.py:1509: UndefinedMetricWarning: Precision is ill-defined and being set to 0.0 in labels with no predicted samples. Use `zero_division` parameter to control this behavior.\n",
      "  _warn_prf(average, modifier, f\"{metric.capitalize()} is\", len(result))\n",
      "/opt/anaconda3/lib/python3.12/site-packages/sklearn/metrics/_classification.py:1509: UndefinedMetricWarning: Precision is ill-defined and being set to 0.0 in labels with no predicted samples. Use `zero_division` parameter to control this behavior.\n",
      "  _warn_prf(average, modifier, f\"{metric.capitalize()} is\", len(result))\n",
      "/opt/anaconda3/lib/python3.12/site-packages/sklearn/metrics/_classification.py:1509: UndefinedMetricWarning: Precision is ill-defined and being set to 0.0 in labels with no predicted samples. Use `zero_division` parameter to control this behavior.\n",
      "  _warn_prf(average, modifier, f\"{metric.capitalize()} is\", len(result))\n",
      "/opt/anaconda3/lib/python3.12/site-packages/sklearn/metrics/_classification.py:1509: UndefinedMetricWarning: Precision is ill-defined and being set to 0.0 in labels with no predicted samples. Use `zero_division` parameter to control this behavior.\n",
      "  _warn_prf(average, modifier, f\"{metric.capitalize()} is\", len(result))\n",
      "/opt/anaconda3/lib/python3.12/site-packages/sklearn/metrics/_classification.py:1509: UndefinedMetricWarning: Precision is ill-defined and being set to 0.0 in labels with no predicted samples. Use `zero_division` parameter to control this behavior.\n",
      "  _warn_prf(average, modifier, f\"{metric.capitalize()} is\", len(result))\n",
      "/opt/anaconda3/lib/python3.12/site-packages/sklearn/metrics/_classification.py:1509: UndefinedMetricWarning: Precision is ill-defined and being set to 0.0 in labels with no predicted samples. Use `zero_division` parameter to control this behavior.\n",
      "  _warn_prf(average, modifier, f\"{metric.capitalize()} is\", len(result))\n"
     ]
    },
    {
     "name": "stdout",
     "output_type": "stream",
     "text": [
      "Reporte de clasificación para Genre_ska:\n",
      "              precision    recall  f1-score   support\n",
      "\n",
      "       False       0.96      1.00      0.98       177\n",
      "        True       0.00      0.00      0.00         8\n",
      "\n",
      "    accuracy                           0.96       185\n",
      "   macro avg       0.48      0.50      0.49       185\n",
      "weighted avg       0.92      0.96      0.94       185\n",
      "\n",
      "Reporte de clasificación para Genre_soul:\n",
      "              precision    recall  f1-score   support\n",
      "\n",
      "       False       0.94      1.00      0.97       174\n",
      "        True       0.00      0.00      0.00        11\n",
      "\n",
      "    accuracy                           0.94       185\n",
      "   macro avg       0.47      0.50      0.48       185\n",
      "weighted avg       0.88      0.94      0.91       185\n",
      "\n"
     ]
    },
    {
     "name": "stderr",
     "output_type": "stream",
     "text": [
      "/opt/anaconda3/lib/python3.12/site-packages/sklearn/metrics/_classification.py:1509: UndefinedMetricWarning: Precision is ill-defined and being set to 0.0 in labels with no predicted samples. Use `zero_division` parameter to control this behavior.\n",
      "  _warn_prf(average, modifier, f\"{metric.capitalize()} is\", len(result))\n",
      "/opt/anaconda3/lib/python3.12/site-packages/sklearn/metrics/_classification.py:1509: UndefinedMetricWarning: Precision is ill-defined and being set to 0.0 in labels with no predicted samples. Use `zero_division` parameter to control this behavior.\n",
      "  _warn_prf(average, modifier, f\"{metric.capitalize()} is\", len(result))\n",
      "/opt/anaconda3/lib/python3.12/site-packages/sklearn/metrics/_classification.py:1509: UndefinedMetricWarning: Precision is ill-defined and being set to 0.0 in labels with no predicted samples. Use `zero_division` parameter to control this behavior.\n",
      "  _warn_prf(average, modifier, f\"{metric.capitalize()} is\", len(result))\n",
      "/opt/anaconda3/lib/python3.12/site-packages/sklearn/metrics/_classification.py:1509: UndefinedMetricWarning: Precision is ill-defined and being set to 0.0 in labels with no predicted samples. Use `zero_division` parameter to control this behavior.\n",
      "  _warn_prf(average, modifier, f\"{metric.capitalize()} is\", len(result))\n",
      "/opt/anaconda3/lib/python3.12/site-packages/sklearn/metrics/_classification.py:1509: UndefinedMetricWarning: Precision is ill-defined and being set to 0.0 in labels with no predicted samples. Use `zero_division` parameter to control this behavior.\n",
      "  _warn_prf(average, modifier, f\"{metric.capitalize()} is\", len(result))\n",
      "/opt/anaconda3/lib/python3.12/site-packages/sklearn/metrics/_classification.py:1509: UndefinedMetricWarning: Precision is ill-defined and being set to 0.0 in labels with no predicted samples. Use `zero_division` parameter to control this behavior.\n",
      "  _warn_prf(average, modifier, f\"{metric.capitalize()} is\", len(result))\n"
     ]
    }
   ],
   "source": [
    "for genre in y.columns:\n",
    "    model = LogisticRegression(max_iter=2000)  \n",
    "    model.fit(X_train, y_train[genre])\n",
    "    \n",
    "    # Hacer predicciones\n",
    "    predictions = model.predict(X_test)\n",
    "    \n",
    "    # Imprimir el reporte de clasificación para cada género\n",
    "    print(f\"Reporte de clasificación para {genre}:\")\n",
    "    print(classification_report(y_test[genre], predictions))"
   ]
  },
  {
   "cell_type": "code",
   "execution_count": 158,
   "metadata": {},
   "outputs": [
    {
     "name": "stdout",
     "output_type": "stream",
     "text": [
      "Reporte de clasificación para Genre_blues:\n",
      "              precision    recall  f1-score   support\n",
      "\n",
      "       False       0.95      0.98      0.96       175\n",
      "        True       0.00      0.00      0.00        10\n",
      "\n",
      "    accuracy                           0.93       185\n",
      "   macro avg       0.47      0.49      0.48       185\n",
      "weighted avg       0.89      0.93      0.91       185\n",
      "\n",
      "Reporte de clasificación para Genre_country:\n",
      "              precision    recall  f1-score   support\n",
      "\n",
      "       False       0.92      0.98      0.95       171\n",
      "        True       0.00      0.00      0.00        14\n",
      "\n",
      "    accuracy                           0.91       185\n",
      "   macro avg       0.46      0.49      0.48       185\n",
      "weighted avg       0.85      0.91      0.88       185\n",
      "\n",
      "Reporte de clasificación para Genre_disco:\n",
      "              precision    recall  f1-score   support\n",
      "\n",
      "       False       0.95      0.99      0.97       176\n",
      "        True       0.00      0.00      0.00         9\n",
      "\n",
      "    accuracy                           0.94       185\n",
      "   macro avg       0.48      0.49      0.48       185\n",
      "weighted avg       0.90      0.94      0.92       185\n",
      "\n",
      "Reporte de clasificación para Genre_electronic:\n",
      "              precision    recall  f1-score   support\n",
      "\n",
      "       False       0.96      0.98      0.97       177\n",
      "        True       0.00      0.00      0.00         8\n",
      "\n",
      "    accuracy                           0.94       185\n",
      "   macro avg       0.48      0.49      0.48       185\n",
      "weighted avg       0.91      0.94      0.93       185\n",
      "\n",
      "Reporte de clasificación para Genre_folk:\n",
      "              precision    recall  f1-score   support\n",
      "\n",
      "       False       0.96      0.98      0.97       177\n",
      "        True       0.00      0.00      0.00         8\n",
      "\n",
      "    accuracy                           0.94       185\n",
      "   macro avg       0.48      0.49      0.48       185\n",
      "weighted avg       0.91      0.94      0.93       185\n",
      "\n",
      "Reporte de clasificación para Genre_hip hop:\n",
      "              precision    recall  f1-score   support\n",
      "\n",
      "       False       0.97      0.98      0.97       179\n",
      "        True       0.00      0.00      0.00         6\n",
      "\n",
      "    accuracy                           0.95       185\n",
      "   macro avg       0.48      0.49      0.49       185\n",
      "weighted avg       0.94      0.95      0.94       185\n",
      "\n",
      "Reporte de clasificación para Genre_house:\n",
      "              precision    recall  f1-score   support\n",
      "\n",
      "       False       0.93      0.99      0.96       173\n",
      "        True       0.00      0.00      0.00        12\n",
      "\n",
      "    accuracy                           0.92       185\n",
      "   macro avg       0.47      0.49      0.48       185\n",
      "weighted avg       0.87      0.92      0.90       185\n",
      "\n",
      "Reporte de clasificación para Genre_indie:\n",
      "              precision    recall  f1-score   support\n",
      "\n",
      "       False       0.96      0.99      0.98       178\n",
      "        True       0.00      0.00      0.00         7\n",
      "\n",
      "    accuracy                           0.96       185\n",
      "   macro avg       0.48      0.50      0.49       185\n",
      "weighted avg       0.93      0.96      0.94       185\n",
      "\n",
      "Reporte de clasificación para Genre_jazz:\n",
      "              precision    recall  f1-score   support\n",
      "\n",
      "       False       0.96      0.98      0.97       178\n",
      "        True       0.00      0.00      0.00         7\n",
      "\n",
      "    accuracy                           0.94       185\n",
      "   macro avg       0.48      0.49      0.48       185\n",
      "weighted avg       0.92      0.94      0.93       185\n",
      "\n",
      "Reporte de clasificación para Genre_latin:\n",
      "              precision    recall  f1-score   support\n",
      "\n",
      "       False       0.96      0.99      0.97       177\n",
      "        True       0.33      0.12      0.18         8\n",
      "\n",
      "    accuracy                           0.95       185\n",
      "   macro avg       0.65      0.56      0.58       185\n",
      "weighted avg       0.93      0.95      0.94       185\n",
      "\n",
      "Reporte de clasificación para Genre_metal:\n",
      "              precision    recall  f1-score   support\n",
      "\n",
      "       False       0.97      1.00      0.99       180\n",
      "        True       0.00      0.00      0.00         5\n",
      "\n",
      "    accuracy                           0.97       185\n",
      "   macro avg       0.49      0.50      0.49       185\n",
      "weighted avg       0.95      0.97      0.96       185\n",
      "\n"
     ]
    },
    {
     "name": "stderr",
     "output_type": "stream",
     "text": [
      "/opt/anaconda3/lib/python3.12/site-packages/sklearn/metrics/_classification.py:1509: UndefinedMetricWarning: Precision is ill-defined and being set to 0.0 in labels with no predicted samples. Use `zero_division` parameter to control this behavior.\n",
      "  _warn_prf(average, modifier, f\"{metric.capitalize()} is\", len(result))\n",
      "/opt/anaconda3/lib/python3.12/site-packages/sklearn/metrics/_classification.py:1509: UndefinedMetricWarning: Precision is ill-defined and being set to 0.0 in labels with no predicted samples. Use `zero_division` parameter to control this behavior.\n",
      "  _warn_prf(average, modifier, f\"{metric.capitalize()} is\", len(result))\n",
      "/opt/anaconda3/lib/python3.12/site-packages/sklearn/metrics/_classification.py:1509: UndefinedMetricWarning: Precision is ill-defined and being set to 0.0 in labels with no predicted samples. Use `zero_division` parameter to control this behavior.\n",
      "  _warn_prf(average, modifier, f\"{metric.capitalize()} is\", len(result))\n"
     ]
    },
    {
     "name": "stdout",
     "output_type": "stream",
     "text": [
      "Reporte de clasificación para Genre_pop:\n",
      "              precision    recall  f1-score   support\n",
      "\n",
      "       False       0.97      0.98      0.98       179\n",
      "        True       0.00      0.00      0.00         6\n",
      "\n",
      "    accuracy                           0.95       185\n",
      "   macro avg       0.48      0.49      0.49       185\n",
      "weighted avg       0.94      0.95      0.94       185\n",
      "\n",
      "Reporte de clasificación para Genre_punk:\n",
      "              precision    recall  f1-score   support\n",
      "\n",
      "       False       0.96      1.00      0.98       177\n",
      "        True       0.00      0.00      0.00         8\n",
      "\n",
      "    accuracy                           0.96       185\n",
      "   macro avg       0.48      0.50      0.49       185\n",
      "weighted avg       0.92      0.96      0.94       185\n",
      "\n"
     ]
    },
    {
     "name": "stderr",
     "output_type": "stream",
     "text": [
      "/opt/anaconda3/lib/python3.12/site-packages/sklearn/metrics/_classification.py:1509: UndefinedMetricWarning: Precision is ill-defined and being set to 0.0 in labels with no predicted samples. Use `zero_division` parameter to control this behavior.\n",
      "  _warn_prf(average, modifier, f\"{metric.capitalize()} is\", len(result))\n",
      "/opt/anaconda3/lib/python3.12/site-packages/sklearn/metrics/_classification.py:1509: UndefinedMetricWarning: Precision is ill-defined and being set to 0.0 in labels with no predicted samples. Use `zero_division` parameter to control this behavior.\n",
      "  _warn_prf(average, modifier, f\"{metric.capitalize()} is\", len(result))\n",
      "/opt/anaconda3/lib/python3.12/site-packages/sklearn/metrics/_classification.py:1509: UndefinedMetricWarning: Precision is ill-defined and being set to 0.0 in labels with no predicted samples. Use `zero_division` parameter to control this behavior.\n",
      "  _warn_prf(average, modifier, f\"{metric.capitalize()} is\", len(result))\n"
     ]
    },
    {
     "name": "stdout",
     "output_type": "stream",
     "text": [
      "Reporte de clasificación para Genre_r&b:\n",
      "              precision    recall  f1-score   support\n",
      "\n",
      "       False       0.94      1.00      0.97       174\n",
      "        True       0.00      0.00      0.00        11\n",
      "\n",
      "    accuracy                           0.94       185\n",
      "   macro avg       0.47      0.50      0.48       185\n",
      "weighted avg       0.88      0.94      0.91       185\n",
      "\n"
     ]
    },
    {
     "name": "stderr",
     "output_type": "stream",
     "text": [
      "/opt/anaconda3/lib/python3.12/site-packages/sklearn/metrics/_classification.py:1509: UndefinedMetricWarning: Precision is ill-defined and being set to 0.0 in labels with no predicted samples. Use `zero_division` parameter to control this behavior.\n",
      "  _warn_prf(average, modifier, f\"{metric.capitalize()} is\", len(result))\n",
      "/opt/anaconda3/lib/python3.12/site-packages/sklearn/metrics/_classification.py:1509: UndefinedMetricWarning: Precision is ill-defined and being set to 0.0 in labels with no predicted samples. Use `zero_division` parameter to control this behavior.\n",
      "  _warn_prf(average, modifier, f\"{metric.capitalize()} is\", len(result))\n",
      "/opt/anaconda3/lib/python3.12/site-packages/sklearn/metrics/_classification.py:1509: UndefinedMetricWarning: Precision is ill-defined and being set to 0.0 in labels with no predicted samples. Use `zero_division` parameter to control this behavior.\n",
      "  _warn_prf(average, modifier, f\"{metric.capitalize()} is\", len(result))\n"
     ]
    },
    {
     "name": "stdout",
     "output_type": "stream",
     "text": [
      "Reporte de clasificación para Genre_reggae:\n",
      "              precision    recall  f1-score   support\n",
      "\n",
      "       False       0.92      1.00      0.96       171\n",
      "        True       0.00      0.00      0.00        14\n",
      "\n",
      "    accuracy                           0.92       185\n",
      "   macro avg       0.46      0.50      0.48       185\n",
      "weighted avg       0.85      0.92      0.89       185\n",
      "\n"
     ]
    },
    {
     "name": "stderr",
     "output_type": "stream",
     "text": [
      "/opt/anaconda3/lib/python3.12/site-packages/sklearn/metrics/_classification.py:1509: UndefinedMetricWarning: Precision is ill-defined and being set to 0.0 in labels with no predicted samples. Use `zero_division` parameter to control this behavior.\n",
      "  _warn_prf(average, modifier, f\"{metric.capitalize()} is\", len(result))\n",
      "/opt/anaconda3/lib/python3.12/site-packages/sklearn/metrics/_classification.py:1509: UndefinedMetricWarning: Precision is ill-defined and being set to 0.0 in labels with no predicted samples. Use `zero_division` parameter to control this behavior.\n",
      "  _warn_prf(average, modifier, f\"{metric.capitalize()} is\", len(result))\n",
      "/opt/anaconda3/lib/python3.12/site-packages/sklearn/metrics/_classification.py:1509: UndefinedMetricWarning: Precision is ill-defined and being set to 0.0 in labels with no predicted samples. Use `zero_division` parameter to control this behavior.\n",
      "  _warn_prf(average, modifier, f\"{metric.capitalize()} is\", len(result))\n"
     ]
    },
    {
     "name": "stdout",
     "output_type": "stream",
     "text": [
      "Reporte de clasificación para Genre_rock:\n",
      "              precision    recall  f1-score   support\n",
      "\n",
      "       False       0.92      0.98      0.95       170\n",
      "        True       0.00      0.00      0.00        15\n",
      "\n",
      "    accuracy                           0.90       185\n",
      "   macro avg       0.46      0.49      0.47       185\n",
      "weighted avg       0.84      0.90      0.87       185\n",
      "\n",
      "Reporte de clasificación para Genre_ska:\n",
      "              precision    recall  f1-score   support\n",
      "\n",
      "       False       0.96      0.99      0.97       177\n",
      "        True       0.00      0.00      0.00         8\n",
      "\n",
      "    accuracy                           0.95       185\n",
      "   macro avg       0.48      0.49      0.49       185\n",
      "weighted avg       0.91      0.95      0.93       185\n",
      "\n",
      "Reporte de clasificación para Genre_soul:\n",
      "              precision    recall  f1-score   support\n",
      "\n",
      "       False       0.94      0.97      0.95       174\n",
      "        True       0.00      0.00      0.00        11\n",
      "\n",
      "    accuracy                           0.91       185\n",
      "   macro avg       0.47      0.49      0.48       185\n",
      "weighted avg       0.88      0.91      0.90       185\n",
      "\n"
     ]
    }
   ],
   "source": [
    "# Crear y entrenar el modelo de Random Forest\n",
    "for genre in y.columns:\n",
    "    model = RandomForestClassifier(random_state=42)\n",
    "    model.fit(X_train, y_train[genre])\n",
    "    \n",
    "    # Hacer predicciones\n",
    "    predictions = model.predict(X_test)\n",
    "    \n",
    "    # Imprimir el reporte de clasificación para cada género\n",
    "    print(f\"Reporte de clasificación para {genre}:\")\n",
    "    print(classification_report(y_test[genre], predictions))"
   ]
  },
  {
   "cell_type": "code",
   "execution_count": 159,
   "metadata": {},
   "outputs": [
    {
     "name": "stdout",
     "output_type": "stream",
     "text": [
      "Mejores parámetros: {'max_depth': None, 'min_samples_split': 2, 'n_estimators': 100}\n"
     ]
    }
   ],
   "source": [
    "from sklearn.model_selection import GridSearchCV\n",
    "\n",
    "# Definir el modelo\n",
    "model = RandomForestClassifier(random_state=42)\n",
    "\n",
    "# Definir los parámetros para GridSearch\n",
    "param_grid = {\n",
    "    'n_estimators': [100, 200],\n",
    "    'max_depth': [None, 10, 20],\n",
    "    'min_samples_split': [2, 5]\n",
    "}\n",
    "\n",
    "grid_search = GridSearchCV(model, param_grid, cv=5, scoring='f1_macro')\n",
    "grid_search.fit(X_train, y_train)\n",
    "\n",
    "print(f\"Mejores parámetros: {grid_search.best_params_}\")"
   ]
  }
 ],
 "metadata": {
  "kernelspec": {
   "display_name": "base",
   "language": "python",
   "name": "python3"
  },
  "language_info": {
   "codemirror_mode": {
    "name": "ipython",
    "version": 3
   },
   "file_extension": ".py",
   "mimetype": "text/x-python",
   "name": "python",
   "nbconvert_exporter": "python",
   "pygments_lexer": "ipython3",
   "version": "3.12.4"
  }
 },
 "nbformat": 4,
 "nbformat_minor": 2
}
