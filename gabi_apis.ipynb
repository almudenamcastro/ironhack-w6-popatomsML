{
 "cells": [
  {
   "cell_type": "code",
   "execution_count": null,
   "metadata": {},
   "outputs": [],
   "source": [
    "from utils_spotipy import create_track_complete_analysis_spotify \n",
    "from utils_last_fm import get_all_top_tracks\n",
    "import pandas as pd"
   ]
  },
  {
   "cell_type": "markdown",
   "metadata": {},
   "source": [
    "### LAST FM ###"
   ]
  },
  {
   "cell_type": "code",
   "execution_count": 27,
   "metadata": {},
   "outputs": [],
   "source": [
    "genres = [\n",
    "    'pop', 'rock', 'hip hop', 'jazz', 'classical',\n",
    "    'r&b', 'reggae', 'country', 'electronic', 'blues',\n",
    "    'metal', 'folk', 'latin', 'punk', 'disco',\n",
    "    'indie', 'soul', 'house', 'ska', 'alternative'\n",
    "]"
   ]
  },
  {
   "cell_type": "code",
   "execution_count": 25,
   "metadata": {},
   "outputs": [],
   "source": [
    "try:\n",
    "   genres_songs = pd.read_csv('./data/genres_songs.csv')\n",
    "except FileNotFoundError:\n",
    "   genres_songs = get_all_top_tracks(genres)"
   ]
  },
  {
   "cell_type": "markdown",
   "metadata": {},
   "source": [
    "### SPOTIFY ###"
   ]
  },
  {
   "cell_type": "code",
   "execution_count": null,
   "metadata": {},
   "outputs": [],
   "source": [
    "create_track_complete_analysis_spotify(genres_songs)"
   ]
  }
 ],
 "metadata": {
  "kernelspec": {
   "display_name": "base",
   "language": "python",
   "name": "python3"
  },
  "language_info": {
   "codemirror_mode": {
    "name": "ipython",
    "version": 3
   },
   "file_extension": ".py",
   "mimetype": "text/x-python",
   "name": "python",
   "nbconvert_exporter": "python",
   "pygments_lexer": "ipython3",
   "version": "3.12.4"
  }
 },
 "nbformat": 4,
 "nbformat_minor": 2
}
